{
 "cells": [
  {
   "cell_type": "code",
   "execution_count": 1,
   "id": "539a6c9c",
   "metadata": {},
   "outputs": [
    {
     "name": "stdout",
     "output_type": "stream",
     "text": [
      "1 for rock \n",
      "2 for paper \n",
      "3 for scissor\n",
      "enter your choice3\n",
      "computer choice = rock\n",
      "user choice = scissor\n",
      "computer win , rock beat scissor\n"
     ]
    }
   ],
   "source": [
    "import random\n",
    "\n",
    "print(\"1 for rock\",\"\\n2 for paper\",\"\\n3 for scissor\")\n",
    "userinput = int(input(\"enter your choice\"))\n",
    "userchoice = \"\"\n",
    "option = [\"rock\",\"paper\",\"scissor\"]\n",
    "computerchoice = random.choice(option)\n",
    "\n",
    "\n",
    "if userinput == 1 :\n",
    "    userchoice = \"rock\"\n",
    "elif userinput == 2 :\n",
    "     userchoice = \"paper\"\n",
    "elif userinput == 3 :\n",
    "     userchoice = \"scissor\"\n",
    "else :\n",
    "     print(\"Please enter a valid number!\")\n",
    "print(\"computer choice =\",computerchoice)     \n",
    "print(\"user choice =\",userchoice)\n",
    "\n",
    "if computerchoice == userchoice :\n",
    "     print(\"draw\")\n",
    "else :\n",
    "     if computerchoice == \"rock\" and userchoice == \"paper\" :\n",
    "          print(\"user win , paper beat rock\")\n",
    "     elif computerchoice == \"rock\" and userchoice == \"scissor\" :\n",
    "          print(\"computer win , rock beat scissor\")\n",
    "     elif computerchoice == \"paper\" and userchoice == \"rock\" :\n",
    "          print(\"computer win , paper beat rock\")\n",
    "     elif computerchoice == \"paper\" and userchoice == \"scissor\" :\n",
    "          print(\"user win , scissor beat paper\")\n",
    "     elif computerchoice == \"scissor\" and userchoice == \"paper\" :\n",
    "          print(\"computer win , scissor beat paper\")\n",
    "     elif computerchoice == \"scissor\" and userchoice == \"rock\" :\n",
    "          print(\"user win , rock beat scissor\")"
   ]
  },
  {
   "cell_type": "code",
   "execution_count": null,
   "id": "a2e23dbd",
   "metadata": {},
   "outputs": [],
   "source": []
  }
 ],
 "metadata": {
  "kernelspec": {
   "display_name": "Python 3 (ipykernel)",
   "language": "python",
   "name": "python3"
  },
  "language_info": {
   "codemirror_mode": {
    "name": "ipython",
    "version": 3
   },
   "file_extension": ".py",
   "mimetype": "text/x-python",
   "name": "python",
   "nbconvert_exporter": "python",
   "pygments_lexer": "ipython3",
   "version": "3.11.5"
  }
 },
 "nbformat": 4,
 "nbformat_minor": 5
}
